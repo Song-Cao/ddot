{
 "cells": [
  {
   "cell_type": "markdown",
   "metadata": {},
   "source": [
    "# Load an edge table of gene similarities into NDEx"
   ]
  },
  {
   "cell_type": "markdown",
   "metadata": {},
   "source": [
    "This tutorial shows how to convert an edge table to an adjacency matrix and upload that matrix to NDEx.\n",
    "\n",
    "The edge table is assumed to be in this format:\n",
    "\n",
    "```Bash\n",
    "SOURCE TARGET WEIGHT\n",
    "GENE1  GENE2  0.123\n",
    "GENE1  GENE3  0.144\n",
    ".\n",
    ".\n",
    "```\n",
    "\n",
    "**NOTE:** This notebook **assumes** the input edge table only contains the upper triangle of the matrix (for example there is an entry for GENE1 -> GENE2 -> WEIGHT, but **NO** entry for GENE2 -> GENE1 -> WEIGHT. To deal with this the code below adds the transpose of the matrix into the final result.\n",
    "\n",
    "**WARNING:** Large tables take lots of ram. For example running this workflow with an edge table 19,000 genes (meaning 360 million element matrix) will consume **10-20** gigabytes of ram and will take 10 - 20 minutes to run\n",
    "\n",
    "This tutorial requires the following packages and easiest way to setup is to first install Anaconda or Miniconda with Python 3 (https://docs.conda.io/en/latest/miniconda.html)\n",
    "\n",
    "* python-igraph (Best to install via Conda ie: `conda install -c conda-forge python-igraph`)\n",
    "* ddot (https://github.com/idekerlab/ddot)\n",
    "* ndex2 (`pip install ndex2`)\n",
    "* simplejson (`pip install simplejson`)\n",
    "* pandas (`pip install pandas`)\n",
    "* numpy (`pip install numpy`\n"
   ]
  },
  {
   "cell_type": "markdown",
   "metadata": {},
   "source": [
    "# Import needed modules"
   ]
  },
  {
   "cell_type": "code",
   "execution_count": null,
   "metadata": {
    "ExecuteTime": {
     "end_time": "2018-12-12T05:29:58.013625Z",
     "start_time": "2018-12-12T05:29:55.240592Z"
    }
   },
   "outputs": [],
   "source": [
    "import os\n",
    "import sys\n",
    "import getpass\n",
    "import csv\n",
    "\n",
    "import ddot\n",
    "import ndex2\n",
    "import pandas as pd\n",
    "import numpy as np\n",
    "from scipy.sparse import coo_matrix \n"
   ]
  },
  {
   "cell_type": "markdown",
   "metadata": {},
   "source": [
    "# Get list of genes from edge table"
   ]
  },
  {
   "cell_type": "markdown",
   "metadata": {},
   "source": [
    "To minimize memory usage, the following code fragment will read the edge table and build a list of genes as well as a dictionary mapping gene names to integers. The dictionary will be used to relabel the genes to integers which is needed by the `coo_matrix` scipy function below.\n",
    "\n",
    "\n",
    "Enter path to edge table file. It is assumed this file has the following header line: `SOURCE TARGET WEIGHT`\n",
    "\n",
    "Example: `/tmp/foo.tsv`"
   ]
  },
  {
   "cell_type": "code",
   "execution_count": null,
   "metadata": {},
   "outputs": [],
   "source": [
    "# sys.version_info gets the version of python, needed to use correct call to get user input\n",
    "#\n",
    "# This fragment of code prompts you for a path to the edge file. Be sure\n",
    "# to enter a file in the text field and hit enter to set the value\n",
    "#\n",
    "sys.stdout.write('Enter path to edge table file:\\n')\n",
    "if sys.version_info[0] >= 3:\n",
    "   edgetable = os.path.abspath(input())\n",
    "else:\n",
    "   edgetable = os.path.abspath(raw_input())\n"
   ]
  },
  {
   "cell_type": "code",
   "execution_count": null,
   "metadata": {
    "scrolled": true
   },
   "outputs": [],
   "source": [
    "#\n",
    "# Print the value of edgetable to make sure it was set\n",
    "#\n",
    "sys.stdout.write('Edge table file set to: ' + edgetable + '\\n')"
   ]
  },
  {
   "cell_type": "code",
   "execution_count": null,
   "metadata": {
    "ExecuteTime": {
     "end_time": "2018-12-12T05:29:58.583155Z",
     "start_time": "2018-12-12T05:29:58.028215Z"
    }
   },
   "outputs": [],
   "source": [
    "# Reads edge table building a list of genes and a dictionary of gene names to integers (gene_map)\n",
    "header_line = 0\n",
    "gene_map = {}\n",
    "counter = 0\n",
    "with open(edgetable, 'r') as infile:\n",
    "    reader = csv.reader(infile, delimiter='\\t')\n",
    "    for row in reader:\n",
    "        if header_line is 0:\n",
    "            header_line = 1\n",
    "            continue\n",
    "        if row[0] not in gene_map:\n",
    "            gene_map[row[0]] = counter\n",
    "            counter += 1\n",
    "        if row[1] not in gene_map:\n",
    "            gene_map[row[1]] = counter\n",
    "            counter += 1\n",
    "\n",
    "\n",
    "genes = sorted(list(gene_map.keys()))\n",
    "\n",
    "\n",
    "# output number of genes found\n",
    "len(genes)"
   ]
  },
  {
   "cell_type": "markdown",
   "metadata": {},
   "source": [
    "# Generate and save new edge table with gene names replaced with integers"
   ]
  },
  {
   "cell_type": "markdown",
   "metadata": {},
   "source": [
    "Using the `gene_map` dictionary generated earlier the code below re-reads the edge table and writes out a new edge table to current working directory named **output.tsv** with gene names replaced by integers (needed by `coo_matrix` function below)\n",
    "\n",
    "**WARNING:** **output.tsv** will be written out to the current working directory and amount of disk space it consumes will be roughly the same as the input **Edge Table** (set in `edgetable` variable) file"
   ]
  },
  {
   "cell_type": "code",
   "execution_count": null,
   "metadata": {
    "ExecuteTime": {
     "end_time": "2018-12-12T05:29:58.593682Z",
     "start_time": "2018-12-12T05:29:58.586896Z"
    }
   },
   "outputs": [],
   "source": [
    "\n",
    "counter = 0\n",
    "with open('output.tsv', 'w') as outf:\n",
    "    with open(edgetable, 'r') as infile:\n",
    "        reader = csv.reader(infile, delimiter='\\t')\n",
    "        for row in reader:\n",
    "            if counter is 0:\n",
    "                outf.write(str(row[0]) + '\\t' + str(row[1]) + '\\t' + str(row[2]) + '\\n')\n",
    "                counter = 1\n",
    "                continue\n",
    "            outf.write(str(gene_map[row[0]])+'\\t'+ str(gene_map[row[1]])+'\\t'+ str(row[2]) + '\\n')\n",
    "    "
   ]
  },
  {
   "cell_type": "markdown",
   "metadata": {},
   "source": [
    "# Load the edge table with gene names replaced by integers\n",
    "\n",
    "**NOTE:** This method will use more ram. For a 180 million row edge table about 3-4 gigabyes of ram will be used."
   ]
  },
  {
   "cell_type": "code",
   "execution_count": null,
   "metadata": {},
   "outputs": [],
   "source": [
    "df = pd.read_csv('output.tsv', sep='\\t', dtype={'SOURCE': np.int32, 'TARGET': np.int32, \n",
    "                                             'WEIGHT': np.float64})\n",
    "\n",
    "df.head()"
   ]
  },
  {
   "cell_type": "markdown",
   "metadata": {},
   "source": [
    "# Create adjacency matrix \n",
    "\n",
    "Creates adjacency matrix using `coo_matrix` function. For 180 million row edge table this uses about 12 gigabytes of ram at peak and drops back down to about 8 gigabytes of ram\n",
    "    \n",
    "**NOTE:** This notebook **assumes** the input edge table only contains the upper triangle of the matrix \n",
    "\n",
    "(For example: There is an entry for GENE1 -> GENE2 -> WEIGHT, but **NO** entry for GENE2 -> GENE1 -> WEIGHT). \n",
    "\n",
    "To create the full matrix, the code below adds the transpose of the matrix into the final result via the `full_mat = sparse_mat + sparse_mat.T` command.\n"
   ]
  },
  {
   "cell_type": "code",
   "execution_count": null,
   "metadata": {},
   "outputs": [],
   "source": [
    "sparse_mat = coo_matrix((df.iloc[:,2], (df.iloc[:,0],df.iloc[:,1])), shape=(len(genes), len(genes)))\n",
    "\n",
    "# delete the dataframe since we dont need it anymore\n",
    "del df\n",
    "\n",
    "# add the transpose of the matrix since it is assumed the input edge table only contains upper half of the triangle\n",
    "# if this is NOT the case,  comment out this line\n",
    "full_mat = sparse_mat + sparse_mat.T\n",
    "\n",
    "full_mat"
   ]
  },
  {
   "cell_type": "markdown",
   "metadata": {},
   "source": [
    "# Create NDEx NiceCXNetwork object"
   ]
  },
  {
   "cell_type": "markdown",
   "metadata": {
    "ExecuteTime": {
     "end_time": "2018-12-07T22:14:41.246109Z",
     "start_time": "2018-12-07T22:14:40.740538Z"
    }
   },
   "source": [
    "NDEx utilizes CX format for storage of data. The next command converts the matrix data into [NDEx CX format](http://www.home.ndexbio.org/data-model/)\n",
    "\n",
    "The `create_edgeMatrix` stores the matrix data in three \"opaque\" aspects as described below:\n",
    "\n",
    "* `matrix` - This aspect contains the matrix data as a serialized numpy array encoded in base64 and chunked into 100 megabyte blocks that are stored as elements in the json list\n",
    "* `matrix_cols` - This aspect contains a list of the gene column names as strings\n",
    "* `matrix_rows` - This aspect contains a list of the gene row names as strings\n",
    "* `matrix_dtype` - This aspect contains the numpy data type for elements in matrix (ie numpy.float64)\n"
   ]
  },
  {
   "cell_type": "code",
   "execution_count": null,
   "metadata": {},
   "outputs": [],
   "source": [
    "network = ddot.utils.create_edgeMatrix(full_mat.todense(), genes, genes,verbose=True,ndex2=True)\n",
    "\n",
    "# sets the name of the network\n",
    "network.set_name('test similarity network')\n",
    "network"
   ]
  },
  {
   "cell_type": "markdown",
   "metadata": {},
   "source": [
    "# Get NDEx credentials"
   ]
  },
  {
   "cell_type": "code",
   "execution_count": null,
   "metadata": {
    "ExecuteTime": {
     "end_time": "2018-12-07T22:14:40.737455Z",
     "start_time": "2018-12-07T22:14:06.944961Z"
    }
   },
   "outputs": [],
   "source": [
    "sys.stdout.write('Enter NDEx username:\\n')\n",
    "if sys.version_info[0] >= 3:\n",
    "    user = input()\n",
    "else:\n",
    "    user = raw_input()\n",
    "\n",
    "sys.stdout.write('Enter NDEx password:\\n')\n",
    "password = getpass.getpass()\n"
   ]
  },
  {
   "cell_type": "markdown",
   "metadata": {},
   "source": [
    "# Upload to NDEx"
   ]
  },
  {
   "cell_type": "code",
   "execution_count": null,
   "metadata": {
    "ExecuteTime": {
     "end_time": "2018-12-07T22:14:41.280898Z",
     "start_time": "2018-12-07T22:14:41.248535Z"
    }
   },
   "outputs": [],
   "source": [
    "# NDEx server to use for production use public.ndexbio.org\n",
    "server_url = 'test.ndexbio.org'\n",
    "\n",
    "res = network.upload_to(server_url, user, password)\n",
    "\n",
    "sys.stdout.write('If successful the value below will be low level URL\\n')\n",
    "sys.stdout.write('The network will be private by default so\\n')\n",
    "sys.stdout.write('to see the network visit http://' + server_url + ' and login with user account entered earlier\\n')\n",
    "\n",
    "res"
   ]
  },
  {
   "cell_type": "code",
   "execution_count": null,
   "metadata": {},
   "outputs": [],
   "source": [
    "print('Tutorial complete. Have a nice day.')"
   ]
  },
  {
   "cell_type": "code",
   "execution_count": null,
   "metadata": {},
   "outputs": [],
   "source": []
  }
 ],
 "metadata": {
  "kernelspec": {
   "display_name": "Python 3",
   "language": "python",
   "name": "python3"
  },
  "language_info": {
   "codemirror_mode": {
    "name": "ipython",
    "version": 3
   },
   "file_extension": ".py",
   "mimetype": "text/x-python",
   "name": "python",
   "nbconvert_exporter": "python",
   "pygments_lexer": "ipython3",
   "version": "3.7.3"
  },
  "latex_envs": {
   "LaTeX_envs_menu_present": true,
   "autocomplete": true,
   "bibliofile": "biblio.bib",
   "cite_by": "apalike",
   "current_citInitial": 1,
   "eqLabelWithNumbers": true,
   "eqNumInitial": 1,
   "hotkeys": {
    "equation": "Ctrl-E",
    "itemize": "Ctrl-I"
   },
   "labels_anchors": false,
   "latex_user_defs": false,
   "report_style_numbering": false,
   "user_envs_cfg": false
  },
  "toc": {
   "colors": {
    "hover_highlight": "#DAA520",
    "navigate_num": "#000000",
    "navigate_text": "#333333",
    "running_highlight": "#FF0000",
    "selected_highlight": "#FFD700",
    "sidebar_border": "#EEEEEE",
    "wrapper_background": "#FFFFFF"
   },
   "moveMenuLeft": true,
   "nav_menu": {
    "height": "86px",
    "width": "252px"
   },
   "navigate_menu": true,
   "number_sections": true,
   "sideBar": true,
   "threshold": 4,
   "toc_cell": false,
   "toc_section_display": "block",
   "toc_window_display": false,
   "widenNotebook": false
  }
 },
 "nbformat": 4,
 "nbformat_minor": 2
}
