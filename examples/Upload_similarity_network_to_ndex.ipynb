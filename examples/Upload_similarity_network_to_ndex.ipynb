{
 "cells": [
  {
   "cell_type": "markdown",
   "metadata": {},
   "source": [
    "# Load an edge table of gene similarities into NDEx"
   ]
  },
  {
   "cell_type": "markdown",
   "metadata": {},
   "source": [
    "This tutorial shows how to convert an edge table containing similarity weights for genes with the following format:\n",
    "\n",
    "```Bash\n",
    "SOURCE TARGET WEIGHT\n",
    "GENE1  GENE2  0.123\n",
    "GENE1  GENE3  0.144\n",
    ".\n",
    ".\n",
    "```\n",
    "\n",
    "to an adjacency matrix as well as how to upload this data to NDEx. \n",
    "\n",
    "**WARNING:** Large tables take lots of ram. For example running this workflow with an edge table with 180 million rows containing around 19,000 genes will consume **????** gigabytes of ram and will take ?? - ?? minutes to run\n",
    "\n",
    "This tutorial requires the following packages\n",
    "\n",
    "* python-igraph (Best to install via Conda ie: `conda install -c conda-forge python-igraph`)\n",
    "* ddot\n",
    "* ndex2\n",
    "* simplejson\n",
    "* pandas\n",
    "* numpy\n"
   ]
  },
  {
   "cell_type": "markdown",
   "metadata": {},
   "source": [
    "# Import needed modules"
   ]
  },
  {
   "cell_type": "code",
   "execution_count": null,
   "metadata": {
    "ExecuteTime": {
     "end_time": "2018-12-12T05:29:58.013625Z",
     "start_time": "2018-12-12T05:29:55.240592Z"
    }
   },
   "outputs": [],
   "source": [
    "import os\n",
    "import sys\n",
    "import getpass\n",
    "\n",
    "import ddot\n",
    "import ndex2\n",
    "import pandas as pd\n",
    "import numpy as np\n",
    "from scipy.sparse import coo_matrix \n"
   ]
  },
  {
   "cell_type": "markdown",
   "metadata": {},
   "source": [
    "# Load edge table via Pandas"
   ]
  },
  {
   "cell_type": "markdown",
   "metadata": {},
   "source": [
    "Enter path to edge table file. It is assumed this file has the following header line: `SOURCE TARGET WEIGHT`\n",
    "\n",
    "Example: `/tmp/foo.tsv`"
   ]
  },
  {
   "cell_type": "code",
   "execution_count": null,
   "metadata": {},
   "outputs": [],
   "source": [
    "# sys.version_info gets the version of python, needed to use correct call to get user input\n",
    "sys.stdout.write('Enter path to edge table file:\\n')\n",
    "if sys.version_info[0] >= 3:\n",
    "   edgetable = os.path.abspath(input())\n",
    "else:\n",
    "   edgetable = os.path.abspath(raw_input())\n"
   ]
  },
  {
   "cell_type": "code",
   "execution_count": null,
   "metadata": {
    "scrolled": true
   },
   "outputs": [],
   "source": [
    "sys.stdout.write('Edge table file set to: ' + edgetable + '\\n')"
   ]
  },
  {
   "cell_type": "code",
   "execution_count": null,
   "metadata": {
    "ExecuteTime": {
     "end_time": "2018-12-12T05:29:58.583155Z",
     "start_time": "2018-12-12T05:29:58.028215Z"
    }
   },
   "outputs": [],
   "source": [
    "# Loads table into Pandas, for a table of 180 million rows this takes a minute or two and\n",
    "# requires ~6gb of ram\n",
    "df = pd.read_csv(edgetable, sep='\\t', dtype={'WEIGHT': np.float64})\n",
    "\n",
    "df.head()"
   ]
  },
  {
   "cell_type": "markdown",
   "metadata": {},
   "source": [
    "# Get sorted gene list and mapping"
   ]
  },
  {
   "cell_type": "markdown",
   "metadata": {},
   "source": [
    "The `coo_matrix` function cannot work with numbers for labels so the code below creates a mapping of gene names to integers, storing the sorted list of genes in `genes` and the mapping in `gene_map_list` which is a list of tuples `(#, GENE NAME)`"
   ]
  },
  {
   "cell_type": "code",
   "execution_count": null,
   "metadata": {
    "ExecuteTime": {
     "end_time": "2018-12-12T05:29:58.593682Z",
     "start_time": "2018-12-12T05:29:58.586896Z"
    }
   },
   "outputs": [],
   "source": [
    "genes = sorted(list(set(df['SOURCE'].append(df['TARGET']))))\n",
    "\n",
    "gene_map_list = [(i, genes[i]) for i in range(len(genes))]\n",
    "\n",
    "gene_map_list    \n",
    "\n",
    "genes"
   ]
  },
  {
   "cell_type": "markdown",
   "metadata": {},
   "source": [
    "# Replace gene names in dataframe with integers"
   ]
  },
  {
   "cell_type": "code",
   "execution_count": null,
   "metadata": {},
   "outputs": [],
   "source": [
    "for i in range(len(gene_map_list)):\n",
    "    df.replace(gene_map_list[i][1], gene_map_list[i][0], inplace=True)\n",
    "\n",
    "df"
   ]
  },
  {
   "cell_type": "markdown",
   "metadata": {},
   "source": [
    "# Create adjacency matrix "
   ]
  },
  {
   "cell_type": "code",
   "execution_count": null,
   "metadata": {},
   "outputs": [],
   "source": [
    "sparse_mat = coo_matrix((df.iloc[:,2], (df.iloc[:,0],df.iloc[:,1])), shape=(len(nodes), len(nodes)))\n",
    "\n",
    "full_mat = sparse_mat + sparse_mat.T\n",
    "\n",
    "full_mat"
   ]
  },
  {
   "cell_type": "markdown",
   "metadata": {},
   "source": [
    "# Create NDEx NiceCXNetwork object"
   ]
  },
  {
   "cell_type": "markdown",
   "metadata": {
    "ExecuteTime": {
     "end_time": "2018-12-07T22:14:41.246109Z",
     "start_time": "2018-12-07T22:14:40.740538Z"
    }
   },
   "source": [
    "NDEx utilizes CX format for storage of data. The next command converts the matrix data into this format"
   ]
  },
  {
   "cell_type": "code",
   "execution_count": null,
   "metadata": {},
   "outputs": [],
   "source": [
    "network = ddot.utils.create_edgeMatrix(full_mat.todense(), genes, genes,verbose=True,ndex2=True)\n",
    "\n",
    "# sets the name of the network\n",
    "network.set_name('test similarity network')\n",
    "network"
   ]
  },
  {
   "cell_type": "markdown",
   "metadata": {},
   "source": [
    "# Get NDEX credentials"
   ]
  },
  {
   "cell_type": "code",
   "execution_count": null,
   "metadata": {
    "ExecuteTime": {
     "end_time": "2018-12-07T22:14:40.737455Z",
     "start_time": "2018-12-07T22:14:06.944961Z"
    }
   },
   "outputs": [],
   "source": [
    "sys.stdout.write('Enter NDEx username:\\n')\n",
    "if sys.version_info[0] >= 3:\n",
    "    user = input()\n",
    "else:\n",
    "    user = raw_input()\n",
    "\n",
    "sys.stdout.write('Enter NDEx password:\\n')\n",
    "password = getpass.getpass()\n"
   ]
  },
  {
   "cell_type": "code",
   "execution_count": null,
   "metadata": {
    "ExecuteTime": {
     "end_time": "2018-12-07T22:14:41.280898Z",
     "start_time": "2018-12-07T22:14:41.248535Z"
    }
   },
   "outputs": [],
   "source": [
    "# NDEx server to use for production use public.ndexbio.org\n",
    "server_url = 'test.ndexbio.org'\n",
    "\n",
    "res = network.upload_to(server_url, user, password)\n",
    "\n",
    "sys.stdout.write('If successful the value below will be low level URL\\n')\n",
    "sys.stdout.write('The network will be private by default so\\n')\n",
    "sys.stdout.write('to see the network visit http://' + server_url + ' and login with user account entered earlier\\n')\n",
    "\n",
    "res"
   ]
  },
  {
   "cell_type": "code",
   "execution_count": null,
   "metadata": {},
   "outputs": [],
   "source": [
    "print('Tutorial complete. Have a nice day.')"
   ]
  }
 ],
 "metadata": {
  "kernelspec": {
   "display_name": "Python 3",
   "language": "python",
   "name": "python3"
  },
  "language_info": {
   "codemirror_mode": {
    "name": "ipython",
    "version": 3
   },
   "file_extension": ".py",
   "mimetype": "text/x-python",
   "name": "python",
   "nbconvert_exporter": "python",
   "pygments_lexer": "ipython3",
   "version": "3.7.3"
  },
  "latex_envs": {
   "LaTeX_envs_menu_present": true,
   "autocomplete": true,
   "bibliofile": "biblio.bib",
   "cite_by": "apalike",
   "current_citInitial": 1,
   "eqLabelWithNumbers": true,
   "eqNumInitial": 1,
   "hotkeys": {
    "equation": "Ctrl-E",
    "itemize": "Ctrl-I"
   },
   "labels_anchors": false,
   "latex_user_defs": false,
   "report_style_numbering": false,
   "user_envs_cfg": false
  },
  "toc": {
   "colors": {
    "hover_highlight": "#DAA520",
    "navigate_num": "#000000",
    "navigate_text": "#333333",
    "running_highlight": "#FF0000",
    "selected_highlight": "#FFD700",
    "sidebar_border": "#EEEEEE",
    "wrapper_background": "#FFFFFF"
   },
   "moveMenuLeft": true,
   "nav_menu": {
    "height": "86px",
    "width": "252px"
   },
   "navigate_menu": true,
   "number_sections": true,
   "sideBar": true,
   "threshold": 4,
   "toc_cell": false,
   "toc_section_display": "block",
   "toc_window_display": false,
   "widenNotebook": false
  }
 },
 "nbformat": 4,
 "nbformat_minor": 2
}
